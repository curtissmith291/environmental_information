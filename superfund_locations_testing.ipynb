{
 "cells": [
  {
   "cell_type": "code",
   "execution_count": 21,
   "metadata": {},
   "outputs": [],
   "source": [
    "# Import Dependencies\n",
    "import pandas as pd\n",
    "import gmaps\n",
    "import requests\n",
    "from config import g_key\n",
    "from geopy import distance\n",
    "from geopy import Nominatim\n",
    "import numpy as np"
   ]
  },
  {
   "cell_type": "code",
   "execution_count": 22,
   "metadata": {
    "scrolled": true
   },
   "outputs": [
    {
     "name": "stdout",
     "output_type": "stream",
     "text": [
      "Enter Address Line 1 (Street Address): 2340 Hurley Way\n",
      "Enter City: Sacramento\n",
      "Enter State: California\n",
      "Enter Zip/Postal Code: 95825\n"
     ]
    }
   ],
   "source": [
    "# Get Address from User\n",
    "street = input(\"Enter Address Line 1 (Street Address): \").strip()\n",
    "city = input(\"Enter City: \").strip()\n",
    "state = input(\"Enter State: \")\n",
    "zip_code = str(input(\"Enter Zip/Postal Code: \")).strip()"
   ]
  },
  {
   "cell_type": "code",
   "execution_count": 23,
   "metadata": {},
   "outputs": [],
   "source": [
    "# Combines individual address inputs into one variable\n",
    "address = street + \", \" + city + \", \" + state + \", \" + zip_code"
   ]
  },
  {
   "cell_type": "code",
   "execution_count": 24,
   "metadata": {},
   "outputs": [
    {
     "name": "stdout",
     "output_type": "stream",
     "text": [
      "2340, Hurley Way, Arden-Arcade, Sacramento County, California, 95825, United States\n",
      "38.58872355555556 -121.40824022222223\n"
     ]
    }
   ],
   "source": [
    "# Returns lat/long from address\n",
    "geolocator = Nominatim(user_agent=\"my_user_agent\")\n",
    "location = geolocator.geocode(address)\n",
    "long_address = location\n",
    "lat = location.latitude\n",
    "long = location.longitude\n",
    "print(long_address)\n",
    "print(lat, long)"
   ]
  },
  {
   "cell_type": "code",
   "execution_count": 25,
   "metadata": {},
   "outputs": [],
   "source": [
    "# State abreviations; EPA API uses abbreviations, address has whole name\n",
    "us_state_abbrev = {\n",
    "    'Alabama': 'AL',\n",
    "    'Alaska': 'AK',\n",
    "    'American Samoa': 'AS',\n",
    "    'Arizona': 'AZ',\n",
    "    'Arkansas': 'AR',\n",
    "    'California': 'CA',\n",
    "    'Colorado': 'CO',\n",
    "    'Connecticut': 'CT',\n",
    "    'Delaware': 'DE',\n",
    "    'District of Columbia': 'DC',\n",
    "    'Florida': 'FL',\n",
    "    'Georgia': 'GA',\n",
    "    'Guam': 'GU',\n",
    "    'Hawaii': 'HI',\n",
    "    'Idaho': 'ID',\n",
    "    'Illinois': 'IL',\n",
    "    'Indiana': 'IN',\n",
    "    'Iowa': 'IA',\n",
    "    'Kansas': 'KS',\n",
    "    'Kentucky': 'KY',\n",
    "    'Louisiana': 'LA',\n",
    "    'Maine': 'ME',\n",
    "    'Maryland': 'MD',\n",
    "    'Massachusetts': 'MA',\n",
    "    'Michigan': 'MI',\n",
    "    'Minnesota': 'MN',\n",
    "    'Mississippi': 'MS',\n",
    "    'Missouri': 'MO',\n",
    "    'Montana': 'MT',\n",
    "    'Nebraska': 'NE',\n",
    "    'Nevada': 'NV',\n",
    "    'New Hampshire': 'NH',\n",
    "    'New Jersey': 'NJ',\n",
    "    'New Mexico': 'NM',\n",
    "    'New York': 'NY',\n",
    "    'North Carolina': 'NC',\n",
    "    'North Dakota': 'ND',\n",
    "    'Northern Mariana Islands':'MP',\n",
    "    'Ohio': 'OH',\n",
    "    'Oklahoma': 'OK',\n",
    "    'Oregon': 'OR',\n",
    "    'Pennsylvania': 'PA',\n",
    "    'Puerto Rico': 'PR',\n",
    "    'Rhode Island': 'RI',\n",
    "    'South Carolina': 'SC',\n",
    "    'South Dakota': 'SD',\n",
    "    'Tennessee': 'TN',\n",
    "    'Texas': 'TX',\n",
    "    'Utah': 'UT',\n",
    "    'Vermont': 'VT',\n",
    "    'Virgin Islands': 'VI',\n",
    "    'Virginia': 'VA',\n",
    "    'Washington': 'WA',\n",
    "    'West Virginia': 'WV',\n",
    "    'Wisconsin': 'WI',\n",
    "    'Wyoming': 'WY'\n",
    "}"
   ]
  },
  {
   "cell_type": "code",
   "execution_count": 26,
   "metadata": {},
   "outputs": [],
   "source": [
    "# Returns abbreviation of state for URL\n",
    "url_state = us_state_abbrev[state]"
   ]
  },
  {
   "cell_type": "code",
   "execution_count": 27,
   "metadata": {},
   "outputs": [],
   "source": [
    "# EPA API Base URL for Active Superfund Sites\n",
    "# Returns all location within the state and puts into Pandas DF\n",
    "\n",
    "request = requests.get(f'https://data.epa.gov/efservice/SEMS_ACTIVE_SITES/SITE_STATE/CONTAINING/{url_state}/JSON').json()"
   ]
  },
  {
   "cell_type": "code",
   "execution_count": 28,
   "metadata": {},
   "outputs": [],
   "source": [
    "# Puts requested data into Pandas Dataframe\n",
    "sf_sites_all = pd.DataFrame(request)"
   ]
  },
  {
   "cell_type": "code",
   "execution_count": 29,
   "metadata": {
    "scrolled": true
   },
   "outputs": [],
   "source": [
    "# Returning new DF contianing sites that have coordinates, i.e. are currently on the NPL or proposed for NPL\n",
    "sf_sites_cleaned = sf_sites_all[sf_sites_all[\"LATITUDE\"].notna()]"
   ]
  },
  {
   "cell_type": "code",
   "execution_count": 30,
   "metadata": {},
   "outputs": [],
   "source": [
    "def distance_calc(row):\n",
    "    '''\n",
    "    This function returns the distance in miles between the address lat/long and the Superfund Site lat/long\n",
    "    '''\n",
    "    address_coords = (lat, long)\n",
    "    coord2 = (row['LATITUDE'], row['LONGITUDE'])\n",
    "    return distance.distance(address_coords, coord2).miles"
   ]
  },
  {
   "cell_type": "code",
   "execution_count": 31,
   "metadata": {
    "scrolled": true
   },
   "outputs": [],
   "source": [
    "# Creates a new column with the distance in miles between the address and Superfund Sites\n",
    "# adding temp Dataframe prevents false positive SettingWithCopyWarning\n",
    "sf_sites_temp = sf_sites_cleaned.copy()\n",
    "sf_sites_temp['SITE_DISTANCE'] = sf_sites_cleaned.apply(distance_calc, axis=1)\n",
    "sf_sites_cleaned = sf_sites_temp.copy()"
   ]
  },
  {
   "cell_type": "code",
   "execution_count": 32,
   "metadata": {},
   "outputs": [],
   "source": [
    "# Creates new DataFrame with Superfund Site within the specified distance from the address\n",
    "\n",
    "dist = 50 # 50 miles for troubleshooting; lower or make it user input in later versions\n",
    "\n",
    "sf_sites_near = sf_sites_cleaned.loc[(sf_sites_cleaned['SITE_DISTANCE'] <= dist)]\n",
    "sf_sites_near = sf_sites_near.sort_values(by = ['SITE_DISTANCE'])"
   ]
  },
  {
   "cell_type": "code",
   "execution_count": 33,
   "metadata": {},
   "outputs": [],
   "source": [
    "# Returns out the Site name and URL\n",
    "site_base_url = 'https://cumulis.epa.gov/supercpad/cursites/csitinfo.cfm?id='\n",
    "\n",
    "def get_site_url(row):\n",
    "    to_append = row[\"SITE_ID\"]\n",
    "    return site_base_url + str(to_append)"
   ]
  },
  {
   "cell_type": "code",
   "execution_count": 34,
   "metadata": {},
   "outputs": [],
   "source": [
    "# Creates a new column with the Site URL\n",
    "# adding temp Dataframe prevents false positive SettingWithCopyWarning\n",
    "\n",
    "sf_sites_temp = sf_sites_near.copy()\n",
    "sf_sites_temp.loc[:, 'SITE_URL'] = sf_sites_near.apply(get_site_url, axis=1)\n",
    "sf_sites_near = sf_sites_temp.copy()"
   ]
  },
  {
   "cell_type": "code",
   "execution_count": 35,
   "metadata": {},
   "outputs": [],
   "source": [
    "site_list = sf_sites_near.loc[:, 'SITE_NAME'].tolist()\n",
    "url_list = sf_sites_near.loc[:, 'SITE_URL'].tolist()\n",
    "distance_list = sf_sites_near.loc[:, 'SITE_DISTANCE'].tolist()"
   ]
  },
  {
   "cell_type": "code",
   "execution_count": 43,
   "metadata": {},
   "outputs": [
    {
     "name": "stdout",
     "output_type": "stream",
     "text": [
      "There are 11 Superfund Sites within 50 miles of your address: \n",
      "\n",
      "1): SACRAMENTO ARMY DEPOT is 4.8 miles away. \n",
      "URL: https://cumulis.epa.gov/supercpad/cursites/csitinfo.cfm?id=0902715 \n",
      "\n",
      "2): MCCLELLAN AIR FORCE BASE (GROUND WATER CONTAMINATION) is 4.9 miles away. \n",
      "URL: https://cumulis.epa.gov/supercpad/cursites/csitinfo.cfm?id=0902759 \n",
      "\n",
      "3): JIBBOOM JUNKYARD is 5.2 miles away. \n",
      "URL: https://cumulis.epa.gov/supercpad/cursites/csitinfo.cfm?id=0902040 \n",
      "\n",
      "4): MATHER AIR FORCE BASE (AC%26W DISPOSAL SITE) is 6.4 miles away. \n",
      "URL: https://cumulis.epa.gov/supercpad/cursites/csitinfo.cfm?id=0902793 \n",
      "\n",
      "5): AEROJET GENERAL CORP. is 11.4 miles away. \n",
      "URL: https://cumulis.epa.gov/supercpad/cursites/csitinfo.cfm?id=0901718 \n",
      "\n",
      "6): FRONTIER FERTILIZER is 16.2 miles away. \n",
      "URL: https://cumulis.epa.gov/supercpad/cursites/csitinfo.cfm?id=0901554 \n",
      "\n",
      "7): LABORATORY FOR ENERGY-RELATED HEALTH RESEARCH/OLD CAMPUS LANDFILL (USDOE) is 19.2 miles away. \n",
      "URL: https://cumulis.epa.gov/supercpad/cursites/csitinfo.cfm?id=0904786 \n",
      "\n",
      "8): TRAVIS AIR FORCE BASE is 36.2 miles away. \n",
      "URL: https://cumulis.epa.gov/supercpad/cursites/csitinfo.cfm?id=0902767 \n",
      "\n",
      "9): ARGONAUT MINE is 37.5 miles away. \n",
      "URL: https://cumulis.epa.gov/supercpad/cursites/csitinfo.cfm?id=0904596 \n",
      "\n",
      "10): MCCORMICK %26 BAXTER CREOSOTING CO. is 44.5 miles away. \n",
      "URL: https://cumulis.epa.gov/supercpad/cursites/csitinfo.cfm?id=0901129 \n",
      "\n",
      "11): CONCORD NAVAL WEAPONS STATION is 49.2 miles away. \n",
      "URL: https://cumulis.epa.gov/supercpad/cursites/csitinfo.cfm?id=0902778 \n",
      "\n"
     ]
    }
   ],
   "source": [
    "# Prints out the count of Superfund Sites\n",
    "count = len(sf_sites_near.index)\n",
    "print(f\"There are {count} Superfund Sites within {dist} miles of your address: \\n\")\n",
    "for i in range(len(site_list)):\n",
    "    print(f'{i+1}): {site_list[i]} is {distance_list[i]:.01f} miles away. \\n'\n",
    "          f'URL: {url_list[i]} \\n')"
   ]
  },
  {
   "cell_type": "code",
   "execution_count": 37,
   "metadata": {},
   "outputs": [],
   "source": [
    "# Info box for map of site locations\n",
    "info_box_template = \"\"\"\n",
    "<dl>\n",
    "<dt>Superfund Site Name</dt><dd>{SITE_NAME}</dd>\n",
    "<dt>URL</dt><dd>{SITE_URL}</dd>\n",
    "</dl>\n",
    "\"\"\"\n",
    "\n",
    "# Get the data from each row and add it to the formatting template and store the data in a list.\n",
    "site_info = [info_box_template.format(**row) for index, row in sf_sites_near.iterrows()]\n"
   ]
  },
  {
   "cell_type": "code",
   "execution_count": 38,
   "metadata": {
    "scrolled": true
   },
   "outputs": [
    {
     "data": {
      "application/vnd.jupyter.widget-view+json": {
       "model_id": "985c0c84e86c41fd8dd2c8fc95449a30",
       "version_major": 2,
       "version_minor": 0
      },
      "text/plain": [
       "Figure(layout=FigureLayout(height='420px'))"
      ]
     },
     "metadata": {},
     "output_type": "display_data"
    }
   ],
   "source": [
    "# Add a marker layer for each site to the map. \n",
    "locations = sf_sites_near[[\"LATITUDE\", \"LONGITUDE\"]]\n",
    "fig = gmaps.figure(center=(30.0, 31.0), zoom_level=1.5)\n",
    "marker_layer = gmaps.marker_layer(locations, info_box_content=site_info)\n",
    "fig.add_layer(marker_layer)\n",
    "fig"
   ]
  },
  {
   "cell_type": "code",
   "execution_count": null,
   "metadata": {},
   "outputs": [],
   "source": []
  }
 ],
 "metadata": {
  "kernelspec": {
   "display_name": "PythonData",
   "language": "python",
   "name": "pythondata"
  },
  "language_info": {
   "codemirror_mode": {
    "name": "ipython",
    "version": 3
   },
   "file_extension": ".py",
   "mimetype": "text/x-python",
   "name": "python",
   "nbconvert_exporter": "python",
   "pygments_lexer": "ipython3",
   "version": "3.7.9"
  }
 },
 "nbformat": 4,
 "nbformat_minor": 4
}
