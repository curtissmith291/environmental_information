{
 "cells": [
  {
   "cell_type": "code",
   "execution_count": 30,
   "metadata": {},
   "outputs": [],
   "source": [
    "# Import Dependencies\n",
    "import pandas as pd\n",
    "import gmaps\n",
    "import requests\n",
    "from config import g_key\n",
    "from geopy import distance\n",
    "from geopy import Nominatim"
   ]
  },
  {
   "cell_type": "code",
   "execution_count": null,
   "metadata": {},
   "outputs": [],
   "source": [
    "# Configure gmaps\n",
    "gmaps.configure(api_key=g_key)"
   ]
  },
  {
   "cell_type": "code",
   "execution_count": 18,
   "metadata": {
    "scrolled": true
   },
   "outputs": [
    {
     "name": "stdout",
     "output_type": "stream",
     "text": [
      "Enter Address Line 1 (Street Address): 506 E. Locust St.\n",
      "Enter City: San Antonio\n",
      "Enter State: Texas\n",
      "Enter Zip/Postal Code: 78212\n",
      " You entered: 506 E. Locust St., San Antonio, Texas, 78212. Is this correct? (Yes or No)\n"
     ]
    }
   ],
   "source": [
    "# Get Address from User\n",
    "street = input(\"Enter Address Line 1 (Street Address): \").strip()\n",
    "city = input(\"Enter City: \").strip()\n",
    "state = input(\"Enter State: \")\n",
    "zip_code = str(input(\"Enter Zip/Postal Code: \")).strip()"
   ]
  },
  {
   "cell_type": "code",
   "execution_count": 28,
   "metadata": {},
   "outputs": [
    {
     "name": "stdout",
     "output_type": "stream",
     "text": [
      " You entered: 506 E. Locust St., San Antonio, Texas, 78212. \n",
      " Is this correct?\n",
      "Yes or No: NO\n",
      "no\n"
     ]
    }
   ],
   "source": [
    "# Combines individual address inputs into one variable\n",
    "address = street + \", \" + city + \", \" + state + \", \" + zip_code\n",
    "\n",
    "# Asks if address is correct\n",
    "print(f\" You entered: {address}. \\n Is this correct?\")\n",
    "ans = input(\"Yes or No: \").lower()"
   ]
  },
  {
   "cell_type": "code",
   "execution_count": 32,
   "metadata": {},
   "outputs": [
    {
     "name": "stdout",
     "output_type": "stream",
     "text": [
      "506, East Locust Street, Tobin Hill, San Antonio, Bexar County, Texas, 78212, United States\n",
      "29.44568042857143 -98.48886314285714\n"
     ]
    }
   ],
   "source": [
    "# Returns lat/long from address\n",
    "geolocator = Nominatim(user_agent=\"my_user_agent\")\n",
    "location = geolocator.geocode(address)\n",
    "long_address = location\n",
    "lat = location.latitude\n",
    "long = location.longitude\n",
    "print(long_address)\n",
    "print(lat, long)"
   ]
  },
  {
   "cell_type": "code",
   "execution_count": 3,
   "metadata": {},
   "outputs": [],
   "source": [
    "# EPA API Base URL\n",
    "base_url = \"https://iaspub.epa.gov/enviro/efservice/\"\n",
    "sems_active_table_name = \"SEMS_ACTIVE_SITES/\"\n",
    "state_column = \"SITE_STATE/\""
   ]
  },
  {
   "cell_type": "code",
   "execution_count": null,
   "metadata": {},
   "outputs": [],
   "source": [
    "# EPA API Base URL for Active Superfund Sites\n",
    "base_url = \"https://data.epa.gov/efservice/SEMS_ACTIVE_SITES/\"\n",
    "sems_active_table_name = \"SEMS_ACTIVE_SITES/\"\n",
    "state_column = \"SITE_STATE/\"\n",
    "test = requests.get('https://data.epa.gov/efservice/SEMS_ACTIVE_SITES/SITE_STATE/CONTAINING/TX/JSON').json()"
   ]
  },
  {
   "cell_type": "code",
   "execution_count": 8,
   "metadata": {},
   "outputs": [],
   "source": [
    "url = base_url + sems_active_table_name + '/' + state_column"
   ]
  },
  {
   "cell_type": "code",
   "execution_count": 9,
   "metadata": {},
   "outputs": [
    {
     "data": {
      "text/plain": [
       "'https://iaspub.epa.gov/enviro/efservice/SEMS_ACTIVE_SITES/SITE_STATE'"
      ]
     },
     "execution_count": 9,
     "metadata": {},
     "output_type": "execute_result"
    }
   ],
   "source": [
    "url"
   ]
  },
  {
   "cell_type": "code",
   "execution_count": null,
   "metadata": {},
   "outputs": [],
   "source": []
  }
 ],
 "metadata": {
  "kernelspec": {
   "display_name": "PythonData",
   "language": "python",
   "name": "pythondata"
  },
  "language_info": {
   "codemirror_mode": {
    "name": "ipython",
    "version": 3
   },
   "file_extension": ".py",
   "mimetype": "text/x-python",
   "name": "python",
   "nbconvert_exporter": "python",
   "pygments_lexer": "ipython3",
   "version": "3.7.9"
  }
 },
 "nbformat": 4,
 "nbformat_minor": 4
}
