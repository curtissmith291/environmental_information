{
 "cells": [
  {
   "cell_type": "code",
   "execution_count": 16,
   "metadata": {},
   "outputs": [],
   "source": [
    "from geopy import distance\n",
    "from geopy import Nominatim"
   ]
  },
  {
   "cell_type": "code",
   "execution_count": 10,
   "metadata": {},
   "outputs": [
    {
     "name": "stdout",
     "output_type": "stream",
     "text": [
      "173.5818455248231\n"
     ]
    }
   ],
   "source": [
    "coords_1 = (52.2296756, 21.0122287)\n",
    "coords_2 = (52.406374, 16.9251681)\n",
    "\n",
    "print(distance.distance(coords_1, coords_2).miles)"
   ]
  },
  {
   "cell_type": "code",
   "execution_count": 12,
   "metadata": {},
   "outputs": [
    {
     "ename": "SyntaxError",
     "evalue": "invalid character in identifier (<ipython-input-12-421ec7c9e3cb>, line 1)",
     "output_type": "error",
     "traceback": [
      "\u001b[0;36m  File \u001b[0;32m\"<ipython-input-12-421ec7c9e3cb>\"\u001b[0;36m, line \u001b[0;32m1\u001b[0m\n\u001b[0;31m    locator = Nominatim(user_agent= ”myGeocoder” )\u001b[0m\n\u001b[0m                                               ^\u001b[0m\n\u001b[0;31mSyntaxError\u001b[0m\u001b[0;31m:\u001b[0m invalid character in identifier\n"
     ]
    }
   ],
   "source": [
    "locator = Nominatim(user_agent= ”myGeocoder” )\n",
    "location = locator.geocode(“Champ de Mars, Paris, France”)"
   ]
  },
  {
   "cell_type": "code",
   "execution_count": 17,
   "metadata": {},
   "outputs": [
    {
     "name": "stdout",
     "output_type": "stream",
     "text": [
      "latitude is :- 51.5073219 \n",
      "longtitude is:- -0.1276474\n"
     ]
    }
   ],
   "source": [
    "geolocator = Nominatim(user_agent=\"my_user_agent\")\n",
    "city =\"London\"\n",
    "country =\"Uk\"\n",
    "loc = geolocator.geocode(city+','+ country)\n",
    "print(\"latitude is :-\" ,loc.latitude,\"\\nlongtitude is:-\" ,loc.longitude)"
   ]
  },
  {
   "cell_type": "code",
   "execution_count": 19,
   "metadata": {},
   "outputs": [
    {
     "name": "stdout",
     "output_type": "stream",
     "text": [
      "506, East Locust Street, Tobin Hill, San Antonio, Bexar County, Texas, 78212, United States\n",
      "29.44568042857143 -98.48886314285714\n"
     ]
    }
   ],
   "source": [
    "geolocator = Nominatim(user_agent=\"my_user_agent\")\n",
    "address = \"506 E Locust St., San Antonio, Texas, 78212\"\n",
    "location = geolocator.geocode(address)\n",
    "print(location)\n",
    "print(location.latitude, location.longitude)"
   ]
  },
  {
   "cell_type": "code",
   "execution_count": null,
   "metadata": {},
   "outputs": [],
   "source": []
  }
 ],
 "metadata": {
  "kernelspec": {
   "display_name": "PythonData",
   "language": "python",
   "name": "pythondata"
  },
  "language_info": {
   "codemirror_mode": {
    "name": "ipython",
    "version": 3
   },
   "file_extension": ".py",
   "mimetype": "text/x-python",
   "name": "python",
   "nbconvert_exporter": "python",
   "pygments_lexer": "ipython3",
   "version": "3.7.9"
  }
 },
 "nbformat": 4,
 "nbformat_minor": 4
}
